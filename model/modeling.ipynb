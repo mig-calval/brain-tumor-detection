{
 "cells": [
  {
   "cell_type": "markdown",
   "id": "f38af0c3-401c-4067-aa64-a32f1737cb9c",
   "metadata": {},
   "source": [
    "# Deep Learning Model "
   ]
  },
  {
   "cell_type": "code",
   "execution_count": 1,
   "id": "f96bff43",
   "metadata": {},
   "outputs": [],
   "source": [
    "# #!pip3 install opencv-python\n",
    "# !pip install tensorflow\n",
    "# !pip install sklearn\n",
    "# !pip install seaborn\n",
    "# !pip install matplotlib"
   ]
  },
  {
   "cell_type": "code",
   "execution_count": 117,
   "id": "e57d9c2d-8bd9-4e8d-a74d-2b36c392cba0",
   "metadata": {},
   "outputs": [],
   "source": [
    "# Libraries\n",
    "\n",
    "import numpy as np\n",
    "import pandas as pd\n",
    "#import matplotlib.pyplot as plt\n",
    "import random\n",
    "import pickle\n",
    "\n",
    "\n",
    "#from PIL import Image\n",
    "#!pip install mat73\n",
    "import mat73\n",
    "import helper\n",
    "\n",
    "#import cv2\n",
    "\n",
    "import tensorflow as tf\n",
    "\n",
    "from tensorflow.keras.models import Sequential, Model\n",
    "from tensorflow.keras.layers import Input, Conv2D, MaxPool2D, UpSampling2D, Conv2DTranspose\n",
    "from tensorflow.keras.layers import InputLayer\n",
    "from tensorflow.keras.layers import BatchNormalization, Dropout, LeakyReLU\n",
    "from tensorflow.keras.layers import Dense, Flatten, Concatenate\n",
    "from tensorflow.keras.regularizers import l1, l2\n",
    "from tensorflow.keras.preprocessing.image import ImageDataGenerator\n",
    "from tensorflow.keras.applications import VGG16\n",
    "\n",
    "from tensorflow.keras.models import load_model\n",
    "\n",
    "from sklearn.model_selection import train_test_split\n",
    "from sklearn.metrics import confusion_matrix, f1_score, accuracy_score\n",
    "import seaborn as sns\n",
    "\n",
    "import matplotlib.pyplot as plt"
   ]
  },
  {
   "cell_type": "markdown",
   "id": "be4dd1ae-5eb1-4a67-b9cd-b1514e9d43a3",
   "metadata": {},
   "source": [
    "### Parameters"
   ]
  },
  {
   "cell_type": "code",
   "execution_count": 4,
   "id": "ca4e2cea-dfe1-45d7-afef-d0df81bef786",
   "metadata": {},
   "outputs": [],
   "source": [
    "resize = 0.2"
   ]
  },
  {
   "cell_type": "markdown",
   "id": "63a4d078-796a-4478-81b2-1786e9e01c04",
   "metadata": {},
   "source": [
    "## Image loading and preprocessing"
   ]
  },
  {
   "cell_type": "code",
   "execution_count": 5,
   "id": "6c88ca7e-a8d3-4e41-92e8-6317fe7ba3b3",
   "metadata": {},
   "outputs": [],
   "source": [
    "### Load each file independently (to avoid memory overflows) and retriev PID\n",
    "patient_ids_dict = dict()\n",
    "label_ids_dict = dict()\n",
    "shape_x_dict = dict()\n",
    "shape_y_dict = dict()\n",
    "image_dict = dict()\n",
    "\n",
    "for file_number in range(1,3047):\n",
    "    file = f'../data/brain-tumor-data-public/{file_number}.mat'\n",
    "    data_dict = mat73.loadmat(file)\n",
    "    patient_ids_dict[file_number] = data_dict['cjdata']['PID']\n",
    "    label_ids_dict[file_number] = int(data_dict['cjdata']['label'])\n",
    "    shape_x_dict[file_number] = data_dict['cjdata']['image'].shape[0]\n",
    "    shape_y_dict[file_number] = data_dict['cjdata']['image'].shape[1]\n",
    "    image_dict[file_number] = data_dict['cjdata']['image']"
   ]
  },
  {
   "cell_type": "code",
   "execution_count": 6,
   "id": "30688f85-068d-4622-b940-9a492b36901e",
   "metadata": {},
   "outputs": [],
   "source": [
    "patient_ids = pd.Series(patient_ids_dict)\n",
    "label_ids = pd.Series(label_ids_dict)\n",
    "shape_x = pd.Series(shape_x_dict)\n",
    "shape_y = pd.Series(shape_y_dict)\n",
    "image = pd.Series(image_dict)\n",
    "\n",
    "patients = pd.DataFrame({'pid':patient_ids, 'label':label_ids,\n",
    "                         'x':shape_x, 'y':shape_y, 'image':image}, index=range(1, 3047))"
   ]
  },
  {
   "cell_type": "code",
   "execution_count": 7,
   "id": "a0d8b0d8-bd61-46c9-abf8-db140e36cdba",
   "metadata": {},
   "outputs": [],
   "source": [
    "patients['image'] = patients['image'].apply(lambda x : helper.imx_preproc(x, zero_up_to_one=True, resize=resize))\n",
    "patients['image'] = patients['image'].apply(lambda x : x.astype('float32'))"
   ]
  },
  {
   "cell_type": "markdown",
   "id": "7870dbe9-dbc7-430e-a06a-4d2dd49506a0",
   "metadata": {},
   "source": [
    "## Train and Validation Sets"
   ]
  },
  {
   "cell_type": "code",
   "execution_count": 10,
   "id": "ea12e367-d931-4bea-b7da-c8b2fdc7fb27",
   "metadata": {},
   "outputs": [],
   "source": [
    "random.seed(1234)\n",
    "\n",
    "val_size = 0.2\n",
    "test_size = 0.2\n",
    "# Training set has 2436 images test set has 610 images \n",
    "train_set, test_set = train_test_split(patients, stratify=patients['label'], test_size=test_size)\n",
    "# Training set has 1948 images, validation set has 488 images\n",
    "train_set, val_set = train_test_split(train_set, stratify=train_set['label'], test_size=val_size)\n",
    "\n",
    "n_total_train = train_set.shape[0]\n",
    "\n",
    "train_set_x = np.stack(train_set['image'].values)\n",
    "train_set_y = np.array(train_set['label'])\n",
    "\n",
    "val_set_x = np.stack(val_set['image'].values)\n",
    "val_set_y = np.array(val_set['label'])\n",
    "\n",
    "test_set_x = np.stack(test_set['image'].values)\n",
    "test_set_y = np.array(test_set['label'])"
   ]
  },
  {
   "cell_type": "markdown",
   "id": "2fa3ae2c",
   "metadata": {},
   "source": [
    "We also add a 3 color channel representation of the image (by repeating the one channel we had 3 times). We do this to be able to use pretrained CNN that require us to provide inputs with that 3rd dimension. \n",
    "\n",
    "This is not the only way to proceed, but it should be good enough for our purposes and given that we can afford storing the data (because it is small in quantity and in image size).\n",
    "\n",
    "https://towardsdatascience.com/transfer-learning-on-greyscale-images-how-to-fine-tune-pretrained-models-on-black-and-white-9a5150755c7a"
   ]
  },
  {
   "cell_type": "code",
   "execution_count": 99,
   "id": "82ee482d",
   "metadata": {
    "scrolled": true
   },
   "outputs": [
    {
     "name": "stderr",
     "output_type": "stream",
     "text": [
      "<ipython-input-99-9c5926e387b6>:8: SettingWithCopyWarning: \n",
      "A value is trying to be set on a copy of a slice from a DataFrame.\n",
      "Try using .loc[row_indexer,col_indexer] = value instead\n",
      "\n",
      "See the caveats in the documentation: https://pandas.pydata.org/pandas-docs/stable/user_guide/indexing.html#returning-a-view-versus-a-copy\n",
      "  test_set['image_3_channels'] = test_set['image'].apply(lambda x: np.expand_dims(x, axis = -1))\n",
      "<ipython-input-99-9c5926e387b6>:9: SettingWithCopyWarning: \n",
      "A value is trying to be set on a copy of a slice from a DataFrame.\n",
      "Try using .loc[row_indexer,col_indexer] = value instead\n",
      "\n",
      "See the caveats in the documentation: https://pandas.pydata.org/pandas-docs/stable/user_guide/indexing.html#returning-a-view-versus-a-copy\n",
      "  test_set['image_3_channels'] = test_set['image_3_channels'].apply(lambda x : x.repeat(3, axis = -1))\n"
     ]
    }
   ],
   "source": [
    "train_set['image_3_channels'] = train_set['image'].apply(lambda x: np.expand_dims(x, axis = -1))\n",
    "train_set['image_3_channels'] = train_set['image_3_channels'].apply(lambda x : x.repeat(3, axis = -1))\n",
    "\n",
    "val_set['image_3_channels'] = val_set['image'].apply(lambda x: np.expand_dims(x, axis = -1))\n",
    "val_set['image_3_channels'] = val_set['image_3_channels'].apply(lambda x : x.repeat(3, axis = -1))\n",
    "\n",
    "#The following 2 lines result in warnings, but they work fine\n",
    "test_set['image_3_channels'] = test_set['image'].apply(lambda x: np.expand_dims(x, axis = -1))\n",
    "test_set['image_3_channels'] = test_set['image_3_channels'].apply(lambda x : x.repeat(3, axis = -1))\n",
    "\n",
    "train_set_x_3_channels = np.stack(train_set['image_3_channels'].values)\n",
    "val_set_x_3_channels = np.stack(val_set['image_3_channels'].values)\n",
    "test_set_x_3_channels = np.stack(test_set['image_3_channels'].values)"
   ]
  },
  {
   "cell_type": "markdown",
   "id": "051f066f-58b9-4b7a-9625-03b5e0b0221d",
   "metadata": {},
   "source": [
    "Applying one hot encoding to target variable y "
   ]
  },
  {
   "cell_type": "code",
   "execution_count": 91,
   "id": "012d02e7-7255-41eb-bb7a-35e5aacee3ac",
   "metadata": {},
   "outputs": [],
   "source": [
    "new_train_set_y = tf.one_hot(train_set_y, depth = 4)\n",
    "new_train_set_y = np.array(new_train_set_y)[:,1:]"
   ]
  },
  {
   "cell_type": "code",
   "execution_count": 92,
   "id": "0ab7b885-9d03-49e9-92b6-57d576d547bc",
   "metadata": {},
   "outputs": [],
   "source": [
    "new_val_set_y = tf.one_hot(val_set_y, depth = 4)\n",
    "new_val_set_y = np.array(new_val_set_y)[:,1:]"
   ]
  },
  {
   "cell_type": "markdown",
   "id": "d524290d-d579-4993-9901-d09cc1af50f1",
   "metadata": {},
   "source": [
    "## CNN Implementation"
   ]
  },
  {
   "cell_type": "code",
   "execution_count": 13,
   "id": "334d8ae5-f5e1-42fd-b342-8a56e523515e",
   "metadata": {},
   "outputs": [],
   "source": [
    "batch_size = 64\n",
    "IMG_H = int(round(512 * resize, 0))\n",
    "IMG_W = int(round(512 * resize, 0))\n",
    "\n",
    "optimizer = 'adam'"
   ]
  },
  {
   "cell_type": "markdown",
   "id": "4898179a",
   "metadata": {},
   "source": [
    "#### Build custom CNN"
   ]
  },
  {
   "cell_type": "code",
   "execution_count": 95,
   "id": "2b7c6311-b7e8-4e5e-a5ca-13891d27cdf1",
   "metadata": {},
   "outputs": [
    {
     "name": "stdout",
     "output_type": "stream",
     "text": [
      "Model: \"sequential_1\"\n",
      "_________________________________________________________________\n",
      " Layer (type)                Output Shape              Param #   \n",
      "=================================================================\n",
      " conv2d_4 (Conv2D)           (None, 100, 100, 64)      1792      \n",
      "                                                                 \n",
      " max_pooling2d_4 (MaxPooling  (None, 50, 50, 64)       0         \n",
      " 2D)                                                             \n",
      "                                                                 \n",
      " conv2d_5 (Conv2D)           (None, 48, 48, 64)        36928     \n",
      "                                                                 \n",
      " max_pooling2d_5 (MaxPooling  (None, 24, 24, 64)       0         \n",
      " 2D)                                                             \n",
      "                                                                 \n",
      " conv2d_6 (Conv2D)           (None, 22, 22, 64)        36928     \n",
      "                                                                 \n",
      " max_pooling2d_6 (MaxPooling  (None, 11, 11, 64)       0         \n",
      " 2D)                                                             \n",
      "                                                                 \n",
      " conv2d_7 (Conv2D)           (None, 9, 9, 64)          36928     \n",
      "                                                                 \n",
      " max_pooling2d_7 (MaxPooling  (None, 4, 4, 64)         0         \n",
      " 2D)                                                             \n",
      "                                                                 \n",
      " flatten_1 (Flatten)         (None, 1024)              0         \n",
      "                                                                 \n",
      " dense_2 (Dense)             (None, 512)               524800    \n",
      "                                                                 \n",
      " dense_3 (Dense)             (None, 3)                 1539      \n",
      "                                                                 \n",
      "=================================================================\n",
      "Total params: 638,915\n",
      "Trainable params: 638,915\n",
      "Non-trainable params: 0\n",
      "_________________________________________________________________\n"
     ]
    }
   ],
   "source": [
    "CNN = Sequential([\n",
    "    InputLayer(input_shape=(IMG_H, IMG_W, 1)),\n",
    "#     InputLayer(input_shape=(IMG_H, IMG_W, 3)), # For 3 channels\n",
    "    \n",
    "    Conv2D(64, 3, activation='relu'),\n",
    "    MaxPool2D(),\n",
    "\n",
    "    Conv2D(64, 3, activation='relu'),\n",
    "    MaxPool2D(),\n",
    "\n",
    "    Conv2D(64, 3, activation='relu'),\n",
    "    MaxPool2D(),\n",
    "\n",
    "    Conv2D(64, 3, activation='relu'),\n",
    "    MaxPool2D(),\n",
    "\n",
    "    Flatten(),\n",
    "    Dense(512, activation='relu'),\n",
    "#     Dense(1, activation='sigmoid')\n",
    "    Dense(3, activation='softmax')\n",
    "])\n",
    "\n",
    "CNN.summary()"
   ]
  },
  {
   "cell_type": "code",
   "execution_count": 13,
   "id": "11075c39",
   "metadata": {},
   "outputs": [
    {
     "name": "stdout",
     "output_type": "stream",
     "text": [
      "Epoch 1/10\n",
      "30/30 [==============================] - 16s 509ms/step - loss: 0.8499 - accuracy: 0.6027 - val_loss: 0.6619 - val_accuracy: 0.6721\n",
      "Epoch 2/10\n",
      "30/30 [==============================] - 15s 487ms/step - loss: 0.6309 - accuracy: 0.7089 - val_loss: 0.6697 - val_accuracy: 0.6680\n",
      "Epoch 3/10\n",
      "30/30 [==============================] - 15s 489ms/step - loss: 0.5394 - accuracy: 0.7675 - val_loss: 0.4514 - val_accuracy: 0.7828\n",
      "Epoch 4/10\n",
      "30/30 [==============================] - 14s 482ms/step - loss: 0.4786 - accuracy: 0.7864 - val_loss: 0.4294 - val_accuracy: 0.8176\n",
      "Epoch 5/10\n",
      "30/30 [==============================] - 15s 484ms/step - loss: 0.3818 - accuracy: 0.8352 - val_loss: 0.3418 - val_accuracy: 0.8586\n",
      "Epoch 6/10\n",
      "30/30 [==============================] - 14s 479ms/step - loss: 0.3101 - accuracy: 0.8727 - val_loss: 0.3367 - val_accuracy: 0.8586\n",
      "Epoch 7/10\n",
      "30/30 [==============================] - 15s 494ms/step - loss: 0.2180 - accuracy: 0.9081 - val_loss: 0.2753 - val_accuracy: 0.8996\n",
      "Epoch 8/10\n",
      "30/30 [==============================] - 15s 497ms/step - loss: 0.1486 - accuracy: 0.9456 - val_loss: 0.2547 - val_accuracy: 0.8975\n",
      "Epoch 9/10\n",
      "30/30 [==============================] - 15s 497ms/step - loss: 0.2444 - accuracy: 0.8999 - val_loss: 0.2880 - val_accuracy: 0.8873\n",
      "Epoch 10/10\n",
      "30/30 [==============================] - 15s 494ms/step - loss: 0.1545 - accuracy: 0.9389 - val_loss: 0.2197 - val_accuracy: 0.9283\n"
     ]
    }
   ],
   "source": [
    "# Compile: Define training parameters\n",
    "CNN.compile(optimizer=optimizer, loss='categorical_crossentropy', metrics=['accuracy'])\n",
    "\n",
    "# Train model\n",
    "EPOCHS = 10\n",
    "BATCHES = n_total_train//batch_size\n",
    "\n",
    "### Following line overflows memory\n",
    "fitted_model = CNN.fit(train_set_x, new_train_set_y, steps_per_epoch=BATCHES,\n",
    "                       epochs=EPOCHS, validation_data=(val_set_x, new_val_set_y))"
   ]
  },
  {
   "cell_type": "markdown",
   "id": "a52e12fe",
   "metadata": {},
   "source": [
    "#### Predefined Arquitectures (with or without Pretrained Weights)"
   ]
  },
  {
   "cell_type": "code",
   "execution_count": 118,
   "id": "eae14041",
   "metadata": {},
   "outputs": [
    {
     "name": "stdout",
     "output_type": "stream",
     "text": [
      "Model: \"sequential_2\"\n",
      "_________________________________________________________________\n",
      " Layer (type)                Output Shape              Param #   \n",
      "=================================================================\n",
      " vgg16 (Functional)          (None, 3, 3, 512)         14714688  \n",
      "                                                                 \n",
      " flatten_2 (Flatten)         (None, 4608)              0         \n",
      "                                                                 \n",
      " dense_4 (Dense)             (None, 256)               1179904   \n",
      "                                                                 \n",
      " dense_5 (Dense)             (None, 3)                 771       \n",
      "                                                                 \n",
      "=================================================================\n",
      "Total params: 15,895,363\n",
      "Trainable params: 1,180,675\n",
      "Non-trainable params: 14,714,688\n",
      "_________________________________________________________________\n"
     ]
    }
   ],
   "source": [
    "# ############### For 3 channels ###############\n",
    "\n",
    "# ### Preload the VGG16 architecture with Imagenet Weights\n",
    "# ### (use this with the \"3 channels\" cells)\n",
    "# IMG_SHAPE = (IMG_W, IMG_H, 3)\n",
    "# CNN = tf.keras.applications.VGG16(input_shape=IMG_SHAPE, include_top=False, weights='imagenet')\n",
    "\n",
    "# # Freeze all pre-trained kernels (False), or allow training (True)\n",
    "# CNN.trainable = False\n",
    "\n",
    "# # Use pre-trained model as part of a full model - notice the number of trainable parameters\n",
    "# CNN = Sequential([\n",
    "#   CNN,\n",
    "#   Flatten(),\n",
    "#   Dense(256, activation='relu'),\n",
    "#   Dense(3, activation='softmax')\n",
    "# ])\n",
    "\n",
    "# CNN.summary()"
   ]
  },
  {
   "cell_type": "code",
   "execution_count": 119,
   "id": "b120611c-6311-46b6-b076-7cd2b22d62fc",
   "metadata": {},
   "outputs": [
    {
     "name": "stdout",
     "output_type": "stream",
     "text": [
      "Epoch 1/10\n",
      "30/30 [==============================] - 47s 2s/step - loss: 0.8571 - accuracy: 0.6679 - val_loss: 0.3898 - val_accuracy: 0.8340\n",
      "Epoch 2/10\n",
      "30/30 [==============================] - 62s 2s/step - loss: 0.3741 - accuracy: 0.8368 - val_loss: 0.3716 - val_accuracy: 0.8361\n",
      "Epoch 3/10\n",
      "30/30 [==============================] - 61s 2s/step - loss: 0.3539 - accuracy: 0.8455 - val_loss: 0.3485 - val_accuracy: 0.8668\n",
      "Epoch 4/10\n",
      "30/30 [==============================] - 63s 2s/step - loss: 0.3014 - accuracy: 0.8629 - val_loss: 0.3053 - val_accuracy: 0.8730\n",
      "Epoch 5/10\n",
      "30/30 [==============================] - 63s 2s/step - loss: 0.2445 - accuracy: 0.9014 - val_loss: 0.2674 - val_accuracy: 0.8770\n",
      "Epoch 6/10\n",
      "30/30 [==============================] - 64s 2s/step - loss: 0.2172 - accuracy: 0.9194 - val_loss: 0.2924 - val_accuracy: 0.8811\n",
      "Epoch 7/10\n",
      "30/30 [==============================] - 63s 2s/step - loss: 0.1919 - accuracy: 0.9266 - val_loss: 0.3030 - val_accuracy: 0.8893\n",
      "Epoch 8/10\n",
      "30/30 [==============================] - 65s 2s/step - loss: 0.1683 - accuracy: 0.9405 - val_loss: 0.2469 - val_accuracy: 0.8914\n",
      "Epoch 9/10\n",
      "30/30 [==============================] - 67s 2s/step - loss: 0.1502 - accuracy: 0.9497 - val_loss: 0.2513 - val_accuracy: 0.8996\n",
      "Epoch 10/10\n",
      "30/30 [==============================] - 74s 2s/step - loss: 0.1352 - accuracy: 0.9533 - val_loss: 0.2404 - val_accuracy: 0.8975\n"
     ]
    }
   ],
   "source": [
    "# ############### For 3 channels ###############\n",
    "\n",
    "# # Compile: Define training parameters\n",
    "# CNN.compile(optimizer=optimizer, loss='categorical_crossentropy', metrics=['accuracy'])\n",
    "\n",
    "# # Train model\n",
    "# EPOCHS = 10\n",
    "# BATCHES = n_total_train//batch_size\n",
    "\n",
    "# ### Following line overflows memory\n",
    "# fitted_model = CNN.fit(train_set_x_3_channels, new_train_set_y, steps_per_epoch=BATCHES,\n",
    "#                        epochs=EPOCHS, validation_data=(val_set_x_3_channels, new_val_set_y))"
   ]
  },
  {
   "cell_type": "markdown",
   "id": "27d2402f",
   "metadata": {},
   "source": [
    "### Results"
   ]
  },
  {
   "cell_type": "code",
   "execution_count": 120,
   "id": "e005139b",
   "metadata": {},
   "outputs": [],
   "source": [
    "model_id = 'vgg16_non_trained_1'"
   ]
  },
  {
   "cell_type": "markdown",
   "id": "d630a9c9",
   "metadata": {},
   "source": [
    "#### Summary"
   ]
  },
  {
   "cell_type": "code",
   "execution_count": 121,
   "id": "5edcc279",
   "metadata": {},
   "outputs": [],
   "source": [
    "with open(f'../results/resize_{resize}/{model_id}_summary.txt', 'w') as f:\n",
    "\n",
    "    CNN.summary(print_fn=lambda x: f.write(x + '\\n'))\n",
    "    f.close()"
   ]
  },
  {
   "cell_type": "markdown",
   "id": "424d6f6b",
   "metadata": {},
   "source": [
    "#### Hyperparameters"
   ]
  },
  {
   "cell_type": "code",
   "execution_count": 122,
   "id": "c13ed8a7",
   "metadata": {},
   "outputs": [],
   "source": [
    "with open(f\"../results/resize_{resize}/{model_id}_extended_summary.txt\",\"w\") as f:\n",
    "    aux = CNN.get_config()\n",
    "    aux['optimizer'] = optimizer\n",
    "    aux['epoch'] = EPOCHS\n",
    "    aux['batches'] = BATCHES\n",
    "    f.write(str(aux))\n",
    "    f.close()"
   ]
  },
  {
   "cell_type": "markdown",
   "id": "1d9e2d11",
   "metadata": {},
   "source": [
    "#### Epoch convergence"
   ]
  },
  {
   "cell_type": "code",
   "execution_count": 123,
   "id": "fa002660",
   "metadata": {},
   "outputs": [
    {
     "data": {
      "image/png": "[encoded data removed]",
      "text/plain": [
       "<Figure size 1440x288 with 2 Axes>"
      ]
     },
     "metadata": {
      "needs_background": "light"
     },
     "output_type": "display_data"
    }
   ],
   "source": [
    "# Plot loss\n",
    "plt.figure(figsize=(20, 4))\n",
    "\n",
    "plt.subplot(1, 2, 1)\n",
    "plt.title('Loss')\n",
    "plt.plot(CNN.history.history['loss'], label='Training', linewidth=2)\n",
    "plt.plot(CNN.history.history['val_loss'], label='Validation', linewidth=2)\n",
    "plt.legend()\n",
    "plt.xlabel('Epoch')\n",
    "plt.ylabel('Loss')\n",
    "plt.grid(True)\n",
    "\n",
    "plt.subplot(1, 2, 2)\n",
    "plt.title('Accuracy')\n",
    "plt.plot(CNN.history.history['accuracy'], label='Training', linewidth=2)\n",
    "plt.plot(CNN.history.history['val_accuracy'], label='Validation', linewidth=2)\n",
    "plt.legend()\n",
    "plt.xlabel('Epoch')\n",
    "plt.ylabel('Accuracy')\n",
    "plt.grid(True)\n",
    "\n",
    "plt.savefig(f'../results/resize_{resize}/{model_id}_epochs.png', bbox_inches = 'tight')\n",
    "plt.show()"
   ]
  },
  {
   "cell_type": "markdown",
   "id": "4db033ea",
   "metadata": {},
   "source": [
    "#### Confusion Matrix"
   ]
  },
  {
   "cell_type": "code",
   "execution_count": 125,
   "id": "3ec9fc2b",
   "metadata": {
    "scrolled": true
   },
   "outputs": [],
   "source": [
    "predictions = CNN.predict(test_set_x)  #por qué no se hace el OHE?\n",
    "predictions = predictions.argmax(1) + 1\n",
    "\n",
    "cm = confusion_matrix(test_set_y, predictions)"
   ]
  },
  {
   "cell_type": "code",
   "execution_count": 126,
   "id": "6ddc8535",
   "metadata": {
    "scrolled": true
   },
   "outputs": [],
   "source": [
    "# ############### For 3 channels ###############\n",
    "# predictions = CNN.predict(test_set_x_3_channels)  #por qué no se hace el OHE?\n",
    "# predictions = predictions.argmax(1) + 1\n",
    "\n",
    "# cm = confusion_matrix(test_set_y, predictions)"
   ]
  },
  {
   "cell_type": "code",
   "execution_count": 127,
   "id": "5c43e76a",
   "metadata": {},
   "outputs": [
    {
     "data": {
      "image/png": "[encoded data removed]",
      "text/plain": [
       "<Figure size 576x576 with 2 Axes>"
      ]
     },
     "metadata": {
      "needs_background": "light"
     },
     "output_type": "display_data"
    }
   ],
   "source": [
    "fig, ax = plt.subplots(figsize = (8,8))\n",
    "\n",
    "group_counts = [\"{0:0.0f}\".format(value) for value in\n",
    "                cm.flatten()]\n",
    "\n",
    "group_percentages = [\"{0:.2%}\".format(value) for value in\n",
    "                     ((cm.transpose()/cm.sum(1)).transpose()).flatten()]\n",
    "\n",
    "#group_percentages = [\"{0:.2%}\".format(value) for value in\n",
    "#                     cm.flatten()/np.sum(cm)]\n",
    "\n",
    "labels = [f\"{v1}\\n{v2}\" for v1, v2 in\n",
    "          zip(group_counts,group_percentages)]\n",
    "\n",
    "labels = np.asarray(labels).reshape(3,3)\n",
    "\n",
    "ax = sns.heatmap(cm,\n",
    "                 annot=labels, \n",
    "                 fmt='',\n",
    "                 cmap='Blues',\n",
    "                 annot_kws = {'fontsize':14})\n",
    "\n",
    "ax.set_title('Confusion Matrix\\n', fontsize = 20);\n",
    "ax.set_xlabel('\\nPredicted Values', labelpad = 18, fontsize = 16)\n",
    "ax.set_ylabel('Actual Values', labelpad = 20, fontsize = 16);\n",
    "\n",
    "## Ticket labels - List must be in alphabetical order\n",
    "ax.xaxis.set_ticklabels(['Meningioma','Glioma', 'Pituituary'], fontsize = 14)\n",
    "ax.yaxis.set_ticklabels(['True\\nMeningioma','True\\nGlioma', 'True\\nPituituary'], fontsize = 14, rotation = 45)\n",
    "\n",
    "## Display the visualization of the Confusion Matrix.\n",
    "plt.savefig(f'../results/resize_{resize}/{model_id}_confusion_matrix.png', bbox_inches = 'tight')\n",
    "plt.show()"
   ]
  },
  {
   "cell_type": "code",
   "execution_count": 128,
   "id": "8bd177d7",
   "metadata": {},
   "outputs": [],
   "source": [
    "f1 = f1_score(test_set_y, predictions, average='weighted')\n",
    "acc = accuracy_score(test_set_y, predictions)"
   ]
  },
  {
   "cell_type": "code",
   "execution_count": 129,
   "id": "46426ad0",
   "metadata": {},
   "outputs": [],
   "source": [
    "with open(f'../results/resize_{resize}/{model_id}_performance.txt', 'w') as f:\n",
    "\n",
    "    performance = {'F1 score': round(f1,4), 'Accuracy': round(acc,4)}\n",
    "    \n",
    "    f.write(str(performance))\n",
    "    f.close()"
   ]
  },
  {
   "cell_type": "markdown",
   "id": "39d04b77",
   "metadata": {},
   "source": [
    "#### Pickle file"
   ]
  },
  {
   "cell_type": "code",
   "execution_count": 130,
   "id": "72718899",
   "metadata": {},
   "outputs": [],
   "source": [
    "CNN.save(f'../results/resize_{resize}/{model_id}_model.h5')"
   ]
  }
 ],
 "metadata": {
  "kernelspec": {
   "display_name": "Python 3",
   "language": "python",
   "name": "python3"
  },
  "language_info": {
   "codemirror_mode": {
    "name": "ipython",
    "version": 3
   },
   "file_extension": ".py",
   "mimetype": "text/x-python",
   "name": "python",
   "nbconvert_exporter": "python",
   "pygments_lexer": "ipython3",
   "version": "3.9.5"
  }
 },
 "nbformat": 4,
 "nbformat_minor": 5
}
